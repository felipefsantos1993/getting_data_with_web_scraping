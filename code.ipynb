{
 "cells": [
  {
   "cell_type": "code",
   "execution_count": null,
   "id": "509ec10f",
   "metadata": {},
   "outputs": [],
   "source": [
    "pip install bs4"
   ]
  },
  {
   "cell_type": "code",
   "execution_count": null,
   "id": "e6546582",
   "metadata": {},
   "outputs": [],
   "source": [
    "import requests\n",
    "import warnings\n",
    "from bs4 import BeautifulSoup"
   ]
  },
  {
   "cell_type": "code",
   "execution_count": null,
   "id": "7754a93e",
   "metadata": {},
   "outputs": [],
   "source": [
    "warnings.filterwarnings(\"ignore\")"
   ]
  },
  {
   "cell_type": "code",
   "execution_count": null,
   "id": "f7abd076",
   "metadata": {},
   "outputs": [],
   "source": [
    "url = f'https://dados.anvisa.gov.br/dados/'\n",
    "folder_path = f'anvisa_files/'\n",
    "\n",
    "page = requests.get(url, verify=False)\n",
    "anvisa_main_page_text = BeautifulSoup(page.content,'html.parser')\n",
    "\n",
    "print(anvisa_main_page_text)"
   ]
  },
  {
   "cell_type": "code",
   "execution_count": null,
   "id": "b977605a",
   "metadata": {},
   "outputs": [],
   "source": [
    "import pandas as pd\n",
    "import requests\n",
    "from io import StringIO\n",
    "\n",
    "url = 'https://dados.anvisa.gov.br/dados/TA_PRODUTO_SAUDE_SITE.csv'\n",
    "response = requests.get(url, verify=False)\n",
    "df = pd.read_csv(StringIO(response.text), sep=';', low_memory=False, encoding='utf-8')\n",
    "\n",
    "display(df)"
   ]
  },
  {
   "cell_type": "code",
   "execution_count": null,
   "id": "b031a4db",
   "metadata": {},
   "outputs": [],
   "source": [
    "pip install bs4"
   ]
  },
  {
   "cell_type": "code",
   "execution_count": null,
   "id": "48e2e257",
   "metadata": {},
   "outputs": [],
   "source": [
    "\n",
    "import io\n",
    "import zipfile\n",
    "import requests\n",
    "import warnings\n",
    "from bs4 import BeautifulSoup"
   ]
  },
  {
   "cell_type": "code",
   "execution_count": null,
   "id": "fd0d3ee8",
   "metadata": {},
   "outputs": [],
   "source": [
    "warnings.filterwarnings(\"ignore\")"
   ]
  },
  {
   "cell_type": "code",
   "execution_count": null,
   "id": "a0d03ab1",
   "metadata": {},
   "outputs": [],
   "source": [
    "base_url = f'https://ftp.dadosabertos.ans.gov.br/FTP/PDA/TISS/AMBULATORIAL/'\n",
    "cont = requests.get(base_url,verify=False)\n",
    "ans_main_page_text = BeautifulSoup(cont.content,'html.parser')"
   ]
  },
  {
   "cell_type": "code",
   "execution_count": null,
   "id": "aa5414c0",
   "metadata": {},
   "outputs": [],
   "source": [
    "folder_path = f'ans_files/'\n",
    "lista_urls = []\n",
    "lista_urls.append('https://ftp.dadosabertos.ans.gov.br/FTP/PDA/TISS/AMBULATORIAL/2023/SP/SP_202301_AMB_CONS.zip')"
   ]
  },
  {
   "cell_type": "code",
   "execution_count": null,
   "id": "42f6f000",
   "metadata": {},
   "outputs": [],
   "source": [
    "for _,link_arquivo_zip in enumerate(lista_urls):\n",
    "\ttry:\n",
    "\t\tzipfile.ZipFile(io.BytesIO(requests.get(link_arquivo_zip, verify=False).content)).extractall(folder_path)\n",
    "\texcept zipfile.BadZipFile:\n",
    "\t\tprint(f'.... Arquivo .zip inválido ({link_arquivo_zip}). Ignorando-o...')\n",
    "\tpass"
   ]
  },
  {
   "cell_type": "code",
   "execution_count": null,
   "id": "fb8967ba",
   "metadata": {},
   "outputs": [],
   "source": []
  },
  {
   "cell_type": "code",
   "execution_count": null,
   "id": "ca3cd42c",
   "metadata": {},
   "outputs": [],
   "source": []
  },
  {
   "cell_type": "code",
   "execution_count": null,
   "id": "c7bffb65",
   "metadata": {},
   "outputs": [],
   "source": [
    "import csv\n",
    "import requests\n",
    "\n",
    "csv_url = 'https://dados.anvisa.gov.br/dados/TA_PRODUTO_SAUDE_SITE.csv'\n",
    "\n",
    "with requests.Session() as s:\n",
    "    download = s.get(csv_url, verify=False)\n",
    "    decoded_content = download.content.decode('latin1')\n",
    "    cr = csv.reader(decoded_content.splitlines(), delimiter=';')"
   ]
  }
 ],
 "metadata": {
  "kernelspec": {
   "display_name": "Python 3",
   "language": "python",
   "name": "python3"
  },
  "language_info": {
   "codemirror_mode": {
    "name": "ipython",
    "version": 3
   },
   "file_extension": ".py",
   "mimetype": "text/x-python",
   "name": "python",
   "nbconvert_exporter": "python",
   "pygments_lexer": "ipython3",
   "version": "3.12.8"
  }
 },
 "nbformat": 4,
 "nbformat_minor": 5
}
